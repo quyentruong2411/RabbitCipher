{
  "cells": [
    {
      "cell_type": "code",
      "execution_count": 10,
      "metadata": {
        "id": "B7KaJ9_McrVj"
      },
      "outputs": [],
      "source": [
        "import hashlib\n",
        "import binascii"
      ]
    },
    {
      "cell_type": "code",
      "execution_count": 11,
      "metadata": {
        "id": "BF4obkimcw6b"
      },
      "outputs": [],
      "source": [
        "WORD_SIZE = 0x100000000  #2^32 => 32 bits"
      ]
    },
    {
      "cell_type": "code",
      "execution_count": 12,
      "metadata": {
        "id": "k4WpYBFKcyAf"
      },
      "outputs": [],
      "source": [
        "# Perform \"Circular Rotation\" of bit {x} positions\n",
        "rotate_by_8 = lambda x: ((x << 8) & 0xFFFFFFFF) | (x >> 24)\n",
        "rotate_by_16 = lambda x: ((x << 16) & 0xFFFFFFFF) | (x >> 16)"
      ]
    },
    {
      "cell_type": "code",
      "execution_count": 13,
      "metadata": {
        "id": "efpz-iaEcz-l"
      },
      "outputs": [],
      "source": [
        "# Encide large number n into byte sequence\n",
        "def encode_large_number(n):\n",
        "    encoded = \"\"\n",
        "    while n > 0:\n",
        "      # Using bitwise And oparator\n",
        "      # n & 0xFF (256) => extract the lower 8 bits (1 byte)\n",
        "      # convert to character using chr\n",
        "      # Exmaple:\n",
        "      ### input: 12345678901234567890\n",
        "      ### output: '\\x00\\x00\\x00\\x00\\x00\\x00\\x00\\x00\\x00\\x00\\x05\\xb6\\xbb4\\x98Iv\\xd2'\n",
        "        encoded = chr(n & 0xFF) + encoded\n",
        "        n >>= 8\n",
        "    return encoded"
      ]
    },
    {
      "cell_type": "code",
      "execution_count": 14,
      "metadata": {
        "id": "QQ2MneWec4SU"
      },
      "outputs": [],
      "source": [
        "# Use square and Xor oparatior to create non-linearily result thus\n",
        "# Amplify the confusion and diffusion of each value\n",
        "# The value get module to make sure it stays in the 32 bit length\n",
        "def non_linear_state_transition(u, v):\n",
        "    '''Internal non-linear state transition function.'''\n",
        "    s = (u + v) % WORD_SIZE\n",
        "    s = s * s\n",
        "    return (s ^ (s >> 32)) % WORD_SIZE"
      ]
    },
    {
      "cell_type": "code",
      "execution_count": 15,
      "metadata": {
        "id": "dNpQ8ncrc8XK"
      },
      "outputs": [],
      "source": [
        "# Define Rabbit Class\n",
        "class Rabbit:\n",
        "\n",
        "    def __init__(self, key, iv=None):\n",
        "        # Initialize:\n",
        "        ## 128-bit key(string)\n",
        "        ## Optional IV\n",
        "\n",
        "        # Simplify version with key as string\n",
        "        if len(key) < 16:\n",
        "            # Padding null byte to ensure 16 char long\n",
        "            key = '\\x00' * (16 - len(key)) + key\n",
        "\n",
        "        k = []\n",
        "        # Iterate over the key string in pairs, starting from the 15th character\n",
        "        for i in range(14, -1, -2):\n",
        "            # Extract two characters from the string\n",
        "            char1 = key[i]\n",
        "            char2 = key[i + 1]\n",
        "            # Convert characters to ASCII values\n",
        "            ord_char1 = ord(char1)\n",
        "            ord_char2 = ord(char2)\n",
        "            # Combine characters into a 16-bit integer in big-endian byte order\n",
        "            combined_integer = ord_char2 | (ord_char1 << 8)\n",
        "            k.append(combined_integer)\n",
        "\n",
        "        '''Init State and counter'''\n",
        "        # The key is split into 8 words, each represented as a 16-bit integer in big-endian byte order\n",
        "        x = []\n",
        "        for j in range(8):\n",
        "            if j % 2 == 1:\n",
        "                value = (k[(j + 5) % 8] << 16) | k[(j + 4) % 8]\n",
        "            else:\n",
        "                value = (k[(j + 1) % 8] << 16) | k[j]\n",
        "            x.append(value)\n",
        "\n",
        "        c = []\n",
        "        for j in range(8):\n",
        "            if j % 2 == 1:\n",
        "                value = (k[j] << 16) | k[(j + 1) % 8]\n",
        "            else:\n",
        "                value = (k[(j + 4) % 8] << 16) | k[(j + 5) % 8]\n",
        "            c.append(value)\n",
        "\n",
        "        self.x = x            # internal state\n",
        "        self.c = c            # internal counter\n",
        "        self.b = 0            # buffer\n",
        "        self._buf = 0         # buffer to store the current byte\n",
        "        self._buf_bytes = 0   # number of bits left in buffer\n",
        "\n",
        "        # The next(self) method represents the state transition,\n",
        "        # Calling it multiple times helps in achieving a more complex internal state.\n",
        "        next(self)\n",
        "        next(self)\n",
        "        next(self)\n",
        "        next(self)\n",
        "\n",
        "        for j in range(8):\n",
        "            c[j] ^= x[(j + 4) % 8]\n",
        "\n",
        "        self.start_x = self.x[:]\n",
        "        self.start_c = self.c[:]\n",
        "        self.start_b = self.b\n",
        "\n",
        "        if iv is not None:\n",
        "            self.set_iv(iv)\n",
        "\n",
        "    def set_iv(self, iv):\n",
        "        # Convert IV to number if provied string\n",
        "        if isinstance(iv, str):\n",
        "            i = 0\n",
        "            for c in iv:\n",
        "                i = (i << 8) | ord(c)\n",
        "            iv = i\n",
        "\n",
        "        c = self.c\n",
        "        # Break down the 64-bit IV into four 16-bit components\n",
        "        i0 = iv & 0xFFFFFFFF\n",
        "        i2 = iv >> 32\n",
        "        i1 = ((i0 >> 16) | (i2 & 0xFFFF0000)) % WORD_SIZE\n",
        "        i3 = ((i2 << 16) | (i0 & 0x0000FFFF)) % WORD_SIZE\n",
        "\n",
        "        # XOR with internal counter to prevent repetition in key stream\n",
        "        c[0] ^= i0\n",
        "        c[1] ^= i1\n",
        "        c[2] ^= i2\n",
        "        c[3] ^= i3\n",
        "        c[4] ^= i0\n",
        "        c[5] ^= i1\n",
        "        c[6] ^= i2\n",
        "        c[7] ^= i3\n",
        "\n",
        "        next(self)\n",
        "        next(self)\n",
        "        next(self)\n",
        "        next(self)\n",
        "\n",
        "    def __next__(self):\n",
        "        c = self.c\n",
        "        x = self.x\n",
        "        b = self.b\n",
        "\n",
        "        t = c[0] + 0x4D34D34D + b\n",
        "        c[0] = t % WORD_SIZE\n",
        "        t = c[1] + 0xD34D34D3 + t // WORD_SIZE\n",
        "        c[1] = t % WORD_SIZE\n",
        "        t = c[2] + 0x34D34D34 + t // WORD_SIZE\n",
        "        c[2] = t % WORD_SIZE\n",
        "        t = c[3] + 0x4D34D34D + t // WORD_SIZE\n",
        "        c[3] = t % WORD_SIZE\n",
        "        t = c[4] + 0xD34D34D3 + t // WORD_SIZE\n",
        "        c[4] = t % WORD_SIZE\n",
        "        t = c[5] + 0x34D34D34 + t // WORD_SIZE\n",
        "        c[5] = t % WORD_SIZE\n",
        "        t = c[6] + 0x4D34D34D + t // WORD_SIZE\n",
        "        c[6] = t % WORD_SIZE\n",
        "        t = c[7] + 0xD34D34D3 + t // WORD_SIZE\n",
        "        c[7] = t % WORD_SIZE\n",
        "        b = t // WORD_SIZE\n",
        "\n",
        "        g = [non_linear_state_transition(x[j], c[j]) for j in range(8)]\n",
        "\n",
        "        x[0] = (g[0] + rotate_by_16(g[7]) + rotate_by_16(g[6])) % WORD_SIZE\n",
        "        x[1] = (g[1] + rotate_by_8(g[0]) + g[7]) % WORD_SIZE\n",
        "        x[2] = (g[2] + rotate_by_16(g[1]) + rotate_by_16(g[0])) % WORD_SIZE\n",
        "        x[3] = (g[3] + rotate_by_8(g[2]) + g[1]) % WORD_SIZE\n",
        "        x[4] = (g[4] + rotate_by_16(g[3]) + rotate_by_16(g[2])) % WORD_SIZE\n",
        "        x[5] = (g[5] + rotate_by_8(g[4]) + g[3]) % WORD_SIZE\n",
        "        x[6] = (g[6] + rotate_by_16(g[5]) + rotate_by_16(g[4])) % WORD_SIZE\n",
        "        x[7] = (g[7] + rotate_by_8(g[6]) + g[5]) % WORD_SIZE\n",
        "\n",
        "        self.b = b\n",
        "        return self\n",
        "\n",
        "    def derive(self):\n",
        "        x = self.x\n",
        "        return ((x[0] & 0xFFFF) ^ (x[5] >> 16)) | \\\n",
        "                (((x[0] >> 16) ^ (x[3] & 0xFFFF)) << 16)| \\\n",
        "                (((x[2] & 0xFFFF) ^ (x[7] >> 16)) << 32)| \\\n",
        "                (((x[2] >> 16) ^ (x[5] & 0xFFFF)) << 48)| \\\n",
        "                (((x[4] & 0xFFFF) ^ (x[1] >> 16)) << 64)| \\\n",
        "                (((x[4] >> 16) ^ (x[7] & 0xFFFF)) << 80)| \\\n",
        "                (((x[6] & 0xFFFF) ^ (x[3] >> 16)) << 96)| \\\n",
        "                (((x[6] >> 16) ^ (x[1] & 0xFFFF)) << 112)\n",
        "\n",
        "    def keystream(self, n):\n",
        "        # Generate keystream\n",
        "        result = \"\"\n",
        "        buffer = self._buf\n",
        "        remaining_bits = self._buf_bytes\n",
        "        state_transition = self.__next__\n",
        "        derive_function = self.derive\n",
        "\n",
        "        for i in range(n):\n",
        "            if not remaining_bits:\n",
        "                remaining_bits = 16\n",
        "                state_transition()\n",
        "                buffer = derive_function()\n",
        "            result += chr(buffer & 0xFF)\n",
        "            remaining_bits -= 1\n",
        "            buffer >>= 1\n",
        "\n",
        "        self._buf = buffer\n",
        "        self._buf_bytes = remaining_bits\n",
        "        return result\n",
        "    \n",
        "    def save_keystream_to_file(self, filename, n):\n",
        "        generated_keystream = self.keystream(n)\n",
        "\n",
        "        with open(filename, 'wb') as file:\n",
        "            binary_keystream = bytes(generated_keystream.encode())\n",
        "            file.write(binary_keystream)\n",
        "\n",
        "    def encrypt(self, data):\n",
        "        result = \"\"\n",
        "        buffer = self._buf\n",
        "        remaining_bits = self._buf_bytes\n",
        "        state_transition = self.__next__\n",
        "        derive_function = self.derive\n",
        "\n",
        "        for character in data:\n",
        "            if not remaining_bits:\n",
        "                remaining_bits = 16\n",
        "                state_transition()\n",
        "                buffer = derive_function()\n",
        "            result += chr(ord(character) ^ (buffer & 0xFF))\n",
        "            remaining_bits -= 1\n",
        "            buffer >>= 1\n",
        "\n",
        "        self._buf = buffer\n",
        "        self._buf_bytes = remaining_bits\n",
        "        return result\n",
        "\n",
        "    def reset(self, iv=None):\n",
        "        self.c = self.start_c[:]\n",
        "        self.x = self.start_x[:]\n",
        "        self.b = self.start_b\n",
        "        self._buf = 0\n",
        "        self._buf_bytes = 0\n",
        "        if iv is not None:\n",
        "            self.set_iv(iv)\n",
        "\n",
        "    # Decrypt is same as encrypt\n",
        "    decrypt = encrypt"
      ]
    },
    {
      "cell_type": "code",
      "execution_count": 16,
      "metadata": {
        "id": "Plh_whPvc94q"
      },
      "outputs": [],
      "source": [
        "# Test Rabbit encryption\n",
        "plainText = \"TruongThiQuyen 20203553\"\n",
        "key = \"BTLLTMM\"\n",
        "iv = 2"
      ]
    },
    {
      "cell_type": "code",
      "execution_count": 17,
      "metadata": {
        "id": "mQ-N8wSrdEWy"
      },
      "outputs": [],
      "source": [
        "key_hashed = hashlib.md5(key.encode()).hexdigest()\n",
        "generated_keystream = Rabbit(key_hashed, iv).keystream(len(plainText))"
      ]
    },
    {
      "cell_type": "code",
      "execution_count": 18,
      "metadata": {},
      "outputs": [],
      "source": [
        "# Save to file\n",
        "Rabbit(key_hashed, iv).save_keystream_to_file(\"keystream.txt\", len(plainText))"
      ]
    },
    {
      "cell_type": "code",
      "execution_count": 19,
      "metadata": {
        "colab": {
          "base_uri": "https://localhost:8080/"
        },
        "id": "Lce0JOKDdGO8",
        "outputId": "fe255861-529c-4966-b853-0654511e9c43"
      },
      "outputs": [
        {
          "name": "stdout",
          "output_type": "stream",
          "text": [
            "PlainText:\t\t TruongThiQuyen 20203553\n",
            "IV:\t\t\t 2\n",
            "Password:\t\t BTLLTMM\n",
            "Key:\t\t\t 333a3f4415034c6ab9c444db4f4e26f5\n",
            "Generated key stream:\t b'4f271309c284c382c3a170c2b85cc2aec3976bc2b5c39ac3adc387633118c28cc38663'\n"
          ]
        }
      ],
      "source": [
        "print(\"PlainText:\\t\\t\", plainText)\n",
        "print(\"IV:\\t\\t\\t\", iv)\n",
        "print(\"Password:\\t\\t\", key)\n",
        "print(\"Key:\\t\\t\\t\", key_hashed)\n",
        "print(\"Generated key stream:\\t\", binascii.hexlify(generated_keystream.encode()))"
      ]
    },
    {
      "cell_type": "code",
      "execution_count": 20,
      "metadata": {
        "colab": {
          "base_uri": "https://localhost:8080/"
        },
        "id": "svUJ48Y8dJxX",
        "outputId": "2274e80e-a78c-4501-e0ae-12190134cceb"
      },
      "outputs": [
        {
          "name": "stdout",
          "output_type": "stream",
          "text": [
            "After Encrypted:\t b'1b556666c3aac2a5c2b518c3910dc39bc2ae0ec39bc3bac39fc3b751012bc2b9c3b350'\n",
            "After Decrypted:\t TruongThiQuyen 20203553\n"
          ]
        }
      ],
      "source": [
        "encrypted_message = Rabbit(key_hashed, iv).encrypt(plainText)\n",
        "print(\"After Encrypted:\\t\", binascii.hexlify(encrypted_message.encode()))\n",
        "\n",
        "decrypted_message = Rabbit(key_hashed, iv).decrypt(encrypted_message)\n",
        "print(\"After Decrypted:\\t\", decrypted_message)"
      ]
    }
  ],
  "metadata": {
    "colab": {
      "provenance": []
    },
    "kernelspec": {
      "display_name": "Python 3",
      "name": "python3"
    },
    "language_info": {
      "codemirror_mode": {
        "name": "ipython",
        "version": 3
      },
      "file_extension": ".py",
      "mimetype": "text/x-python",
      "name": "python",
      "nbconvert_exporter": "python",
      "pygments_lexer": "ipython3",
      "version": "3.10.0b3"
    }
  },
  "nbformat": 4,
  "nbformat_minor": 0
}
